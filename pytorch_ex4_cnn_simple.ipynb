{
 "cells": [
  {
   "cell_type": "code",
   "execution_count": 1,
   "id": "unauthorized-bride",
   "metadata": {},
   "outputs": [],
   "source": [
    "SEED = 11"
   ]
  },
  {
   "cell_type": "code",
   "execution_count": 2,
   "id": "brief-prince",
   "metadata": {},
   "outputs": [],
   "source": [
    "import torch\n",
    "import matplotlib.pyplot as plt\n",
    "from IPython.display import display, Math"
   ]
  },
  {
   "cell_type": "code",
   "execution_count": 3,
   "id": "mounted-chancellor",
   "metadata": {},
   "outputs": [],
   "source": [
    "import torch.nn as nn\n",
    "import torch.optim as optim\n",
    "import torch.nn.init as init\n",
    "from torchvision import datasets\n",
    "from torchvision import transforms\n",
    "from torch.utils.data import DataLoader"
   ]
  },
  {
   "cell_type": "code",
   "execution_count": 4,
   "id": "noble-yield",
   "metadata": {},
   "outputs": [],
   "source": [
    "batch_size = 256\n",
    "learning_rate = 0.0002\n",
    "num_epoch = 10"
   ]
  },
  {
   "cell_type": "markdown",
   "id": "aboriginal-operation",
   "metadata": {},
   "source": [
    "## mnist data load"
   ]
  },
  {
   "cell_type": "code",
   "execution_count": 9,
   "id": "circular-spirit",
   "metadata": {},
   "outputs": [],
   "source": [
    "mnist_train = datasets.MNIST(\"./\", train=True,\n",
    "                            transform = transforms.ToTensor(),\n",
    "                            target_transform=None,\n",
    "                            download=True)"
   ]
  },
  {
   "cell_type": "code",
   "execution_count": 10,
   "id": "improved-lafayette",
   "metadata": {},
   "outputs": [],
   "source": [
    "mnist_test = datasets.MNIST(\"./\", train=False,\n",
    "                            transform = transforms.ToTensor(),\n",
    "                            target_transform=None,\n",
    "                            download=True)"
   ]
  },
  {
   "cell_type": "code",
   "execution_count": 11,
   "id": "noble-vocabulary",
   "metadata": {},
   "outputs": [],
   "source": [
    "train_loader = DataLoader(mnist_train, batch_size = batch_size,\n",
    "                         shuffle = True, num_workers = 2,\n",
    "                         drop_last = True)"
   ]
  },
  {
   "cell_type": "code",
   "execution_count": 12,
   "id": "handled-danger",
   "metadata": {},
   "outputs": [],
   "source": [
    "test_loader = DataLoader(mnist_test, batch_size = batch_size,\n",
    "                         shuffle = False, num_workers = 2,\n",
    "                         drop_last = True)"
   ]
  },
  {
   "cell_type": "code",
   "execution_count": 37,
   "id": "reverse-sierra",
   "metadata": {},
   "outputs": [],
   "source": [
    "class CNN(nn.Module):\n",
    "    def __init__(self):\n",
    "        super(CNN,self).__init__()\n",
    "        self.layer = nn.Sequential(\n",
    "            nn.Conv2d(in_channels = 1,\n",
    "                      out_channels = 16,\n",
    "                      kernel_size = 5, \n",
    "                      stride = 1,\n",
    "                      padding = 0,\n",
    "                      ),\n",
    "            nn.ReLU(),\n",
    "            nn.Conv2d(16, 32, 5),\n",
    "            nn.ReLU(),\n",
    "            nn.MaxPool2d(kernel_size = 2,\n",
    "                         stride = 2),\n",
    "            nn.Conv2d(32, 64, 5),\n",
    "            nn.ReLU(),\n",
    "            nn.MaxPool2d(2, 2)\n",
    "            # [None, 64, 3, 3]\n",
    "        )\n",
    "        self.fc_layer = nn.Sequential(\n",
    "            nn.Linear(64*3*3, 100),\n",
    "            nn.ReLU(),\n",
    "            nn.Linear(100, 10),\n",
    "        )\n",
    "    def forward(self, x):\n",
    "        out = self.layer(x)\n",
    "        out = out.view(batch_size, -1)\n",
    "        out = self.fc_layer(out)\n",
    "        return(out)\n",
    "        "
   ]
  },
  {
   "cell_type": "code",
   "execution_count": 38,
   "id": "coastal-platinum",
   "metadata": {},
   "outputs": [],
   "source": [
    "device = torch.device(\"cuda:0\")\n",
    "model = CNN().to(device)\n",
    "loss_func = nn.CrossEntropyLoss()\n",
    "optimizer = optim.Adam(model.parameters(), lr = learning_rate)"
   ]
  },
  {
   "cell_type": "code",
   "execution_count": 47,
   "id": "acquired-faculty",
   "metadata": {},
   "outputs": [
    {
     "name": "stdout",
     "output_type": "stream",
     "text": [
      "tensor(0.1405, device='cuda:0', grad_fn=<NllLossBackward>)\n",
      "tensor(0.1121, device='cuda:0', grad_fn=<NllLossBackward>)\n",
      "tensor(0.1256, device='cuda:0', grad_fn=<NllLossBackward>)\n",
      "tensor(0.0675, device='cuda:0', grad_fn=<NllLossBackward>)\n",
      "tensor(0.0706, device='cuda:0', grad_fn=<NllLossBackward>)\n",
      "tensor(0.1407, device='cuda:0', grad_fn=<NllLossBackward>)\n",
      "tensor(0.0760, device='cuda:0', grad_fn=<NllLossBackward>)\n",
      "tensor(0.0566, device='cuda:0', grad_fn=<NllLossBackward>)\n",
      "tensor(0.0735, device='cuda:0', grad_fn=<NllLossBackward>)\n",
      "tensor(0.0738, device='cuda:0', grad_fn=<NllLossBackward>)\n"
     ]
    }
   ],
   "source": [
    "arr_loss = []\n",
    "for ii in range(num_epoch):\n",
    "    for jj, [image, label] in enumerate(train_loader):\n",
    "        x = image.to(device)\n",
    "        y_ = label.to(device)\n",
    "        \n",
    "        optimizer.zero_grad()\n",
    "        output = model.forward(x)\n",
    "        loss = loss_func(output, y_)\n",
    "        loss.backward()\n",
    "        optimizer.step()\n",
    "        \n",
    "        if jj % 1000 == 0:\n",
    "            print(loss)\n",
    "            arr_loss.append(loss.cpu().detach().numpy())"
   ]
  },
  {
   "cell_type": "code",
   "execution_count": 65,
   "id": "literary-selection",
   "metadata": {},
   "outputs": [
    {
     "name": "stdout",
     "output_type": "stream",
     "text": [
      "Test acc: 0.9803686141967773\n"
     ]
    }
   ],
   "source": [
    "correct = 0\n",
    "total = 0\n",
    "\n",
    "with torch.no_grad():\n",
    "    for image, label in test_loader:\n",
    "        x = image.to(device)\n",
    "        y_ = label.to(device)\n",
    "        output = model.forward(x)\n",
    "        _, output_index = torch.max(output, 1)\n",
    "        total += label.size(0)\n",
    "        correct += (output_index == y_).sum().float()\n",
    "    print('Test acc: {}'.format(correct/total))"
   ]
  }
 ],
 "metadata": {
  "kernelspec": {
   "display_name": "Python 3",
   "language": "python",
   "name": "python3"
  },
  "language_info": {
   "codemirror_mode": {
    "name": "ipython",
    "version": 3
   },
   "file_extension": ".py",
   "mimetype": "text/x-python",
   "name": "python",
   "nbconvert_exporter": "python",
   "pygments_lexer": "ipython3",
   "version": "3.6.12"
  }
 },
 "nbformat": 4,
 "nbformat_minor": 5
}
