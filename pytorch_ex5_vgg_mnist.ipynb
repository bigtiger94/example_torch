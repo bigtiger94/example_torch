{
 "cells": [
  {
   "cell_type": "code",
   "execution_count": 1,
   "id": "modular-inspection",
   "metadata": {},
   "outputs": [],
   "source": [
    "SEED = 11"
   ]
  },
  {
   "cell_type": "code",
   "execution_count": 2,
   "id": "blessed-screw",
   "metadata": {},
   "outputs": [],
   "source": [
    "import torch\n",
    "import matplotlib.pyplot as plt\n",
    "from IPython.display import display, Math"
   ]
  },
  {
   "cell_type": "code",
   "execution_count": 3,
   "id": "painted-program",
   "metadata": {},
   "outputs": [],
   "source": [
    "import torch.nn as nn\n",
    "import torch.optim as optim\n",
    "import torch.nn.init as init\n",
    "from torchvision import datasets\n",
    "from torchvision import transforms\n",
    "from torch.utils.data import DataLoader"
   ]
  },
  {
   "cell_type": "code",
   "execution_count": 212,
   "id": "present-origin",
   "metadata": {},
   "outputs": [],
   "source": [
    "def conv_2_block(in_dim, out_dim):\n",
    "    model = nn.Sequential(\n",
    "        nn.Conv2d(in_dim, out_dim, kernel_size = 3, padding = 1),\n",
    "        nn.ReLU(),\n",
    "        nn.Conv2d(out_dim, out_dim, kernel_size = 3, padding = 1),\n",
    "        nn.ReLU(),\n",
    "        nn.MaxPool2d(2, 2),\n",
    "    )\n",
    "    return(model)\n",
    "\n",
    "def conv_3_block(in_dim, out_dim):\n",
    "    model = nn.Sequential(\n",
    "        nn.Conv2d(in_dim, out_dim, kernel_size = 3, padding = 1),\n",
    "        nn.ReLU(),\n",
    "        nn.Conv2d(out_dim, out_dim, kernel_size = 3, padding = 1),\n",
    "        nn.ReLU(),\n",
    "        nn.Conv2d(out_dim, out_dim, kernel_size = 3, padding = 1),\n",
    "        nn.ReLU(),\n",
    "        nn.MaxPool2d(2, 2),\n",
    "    )\n",
    "    return(model)\n",
    "\n",
    "class myVGG(nn.Module):\n",
    "    def __init__(self, base_dim, num_classes = 10):\n",
    "        super(myVGG, self).__init__()\n",
    "        self.feature = nn.Sequential(\n",
    "             conv_2_block(1, base_dim),\n",
    "             conv_2_block(base_dim, 2*base_dim),\n",
    "             conv_3_block(2*base_dim, 4*base_dim),\n",
    "             conv_3_block(4*base_dim, 8*base_dim),\n",
    "#              conv_3_block(8*base_dim, 8*base_dim),\n",
    "        )\n",
    "        \n",
    "        self.fc_layer = nn.Sequential(\n",
    "             nn.Linear(8*base_dim, 100),\n",
    "             nn.ReLU(True),\n",
    "             nn.Linear(100, 20),\n",
    "             nn.ReLU(True),\n",
    "             nn.Linear(20, num_classes)\n",
    "        )\n",
    "    def forward(self, x):\n",
    "        x = self.feature(x)\n",
    "        x = x.view(x.size(0), -1)\n",
    "        x = self.fc_layer(x)\n",
    "        return(x)"
   ]
  },
  {
   "cell_type": "code",
   "execution_count": 213,
   "id": "thirty-release",
   "metadata": {},
   "outputs": [],
   "source": [
    "# load mnist dataset \n",
    "mnist_train = datasets.MNIST(\"./\", train=True,\n",
    "                            transform = transforms.ToTensor(),\n",
    "                            target_transform=None,\n",
    "                            download=True)"
   ]
  },
  {
   "cell_type": "code",
   "execution_count": 214,
   "id": "dominant-christian",
   "metadata": {},
   "outputs": [],
   "source": [
    "mnist_test = datasets.MNIST(\"./\", train=False,\n",
    "                            transform = transforms.ToTensor(),\n",
    "                            target_transform=None,\n",
    "                            download=True)"
   ]
  },
  {
   "cell_type": "code",
   "execution_count": 215,
   "id": "grand-professor",
   "metadata": {},
   "outputs": [],
   "source": [
    "device = torch.device(\"cuda:0\")\n",
    "model = myVGG(base_dim = 16, num_classes=len(mnist_train.classes)).to(device)\n"
   ]
  },
  {
   "cell_type": "code",
   "execution_count": 221,
   "id": "automotive-breeding",
   "metadata": {},
   "outputs": [],
   "source": [
    "batch_size = 128\n",
    "learning_rate = 0.0002\n",
    "num_epoch = 10"
   ]
  },
  {
   "cell_type": "code",
   "execution_count": 222,
   "id": "skilled-bicycle",
   "metadata": {},
   "outputs": [],
   "source": [
    "loss_func = nn.CrossEntropyLoss()\n",
    "optimizer = optim.Adam(model.parameters(), lr = learning_rate)"
   ]
  },
  {
   "cell_type": "code",
   "execution_count": 223,
   "id": "representative-complaint",
   "metadata": {},
   "outputs": [],
   "source": [
    "train_loader = DataLoader(mnist_train, batch_size = batch_size,\n",
    "                         shuffle = True, num_workers = 2,\n",
    "                         drop_last = True)"
   ]
  },
  {
   "cell_type": "code",
   "execution_count": 224,
   "id": "arbitrary-approach",
   "metadata": {},
   "outputs": [],
   "source": [
    "test_loader = DataLoader(mnist_test, batch_size = batch_size,\n",
    "                         shuffle = False, num_workers = 2,\n",
    "                         drop_last = True)"
   ]
  },
  {
   "cell_type": "code",
   "execution_count": 225,
   "id": "minus-amsterdam",
   "metadata": {},
   "outputs": [
    {
     "name": "stdout",
     "output_type": "stream",
     "text": [
      "tensor(0.0234, device='cuda:0', grad_fn=<NllLossBackward>)\n",
      "tensor(0.0043, device='cuda:0', grad_fn=<NllLossBackward>)\n",
      "tensor(0.0002, device='cuda:0', grad_fn=<NllLossBackward>)\n",
      "tensor(0.0008, device='cuda:0', grad_fn=<NllLossBackward>)\n",
      "tensor(0.0007, device='cuda:0', grad_fn=<NllLossBackward>)\n",
      "tensor(0.0001, device='cuda:0', grad_fn=<NllLossBackward>)\n",
      "tensor(0.0373, device='cuda:0', grad_fn=<NllLossBackward>)\n",
      "tensor(0.0004, device='cuda:0', grad_fn=<NllLossBackward>)\n",
      "tensor(0.0003, device='cuda:0', grad_fn=<NllLossBackward>)\n",
      "tensor(0.0003, device='cuda:0', grad_fn=<NllLossBackward>)\n"
     ]
    }
   ],
   "source": [
    "arr_loss = []\n",
    "for ii in range(num_epoch):\n",
    "    for jj, [image, label] in enumerate(train_loader):\n",
    "        x = image.to(device)\n",
    "        y_ = label.to(device)\n",
    "        \n",
    "        optimizer.zero_grad() # initialize 0 for each data\n",
    "        output = model.forward(x)\n",
    "        loss = loss_func(output, y_)\n",
    "        loss.backward() # calculate back prop (gradient)\n",
    "        optimizer.step() # update weight\n",
    "        if jj % 1000 == 0:\n",
    "            print(loss)\n",
    "            arr_loss.append(loss.cpu().detach().numpy())\n",
    "        "
   ]
  },
  {
   "cell_type": "code",
   "execution_count": 226,
   "id": "caring-bolivia",
   "metadata": {},
   "outputs": [
    {
     "name": "stdout",
     "output_type": "stream",
     "text": [
      "Test acc: 0.9940905570983887\n"
     ]
    }
   ],
   "source": [
    "correct = 0\n",
    "total = 0\n",
    "\n",
    "with torch.no_grad():\n",
    "    for image, label in test_loader:\n",
    "        x = image.to(device)\n",
    "        y_ = label.to(device)\n",
    "        output = model.forward(x)\n",
    "        _, output_index = torch.max(output, 1)\n",
    "        total += label.size(0)\n",
    "        correct += (output_index == y_).sum().float()\n",
    "    print('Test acc: {}'.format(correct/total))"
   ]
  },
  {
   "cell_type": "code",
   "execution_count": null,
   "id": "welcome-sherman",
   "metadata": {},
   "outputs": [],
   "source": []
  }
 ],
 "metadata": {
  "kernelspec": {
   "display_name": "Python 3",
   "language": "python",
   "name": "python3"
  },
  "language_info": {
   "codemirror_mode": {
    "name": "ipython",
    "version": 3
   },
   "file_extension": ".py",
   "mimetype": "text/x-python",
   "name": "python",
   "nbconvert_exporter": "python",
   "pygments_lexer": "ipython3",
   "version": "3.6.12"
  }
 },
 "nbformat": 4,
 "nbformat_minor": 5
}
