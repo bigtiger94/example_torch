{
 "cells": [
  {
   "cell_type": "code",
   "execution_count": 1,
   "id": "industrial-speed",
   "metadata": {},
   "outputs": [],
   "source": [
    "SEED = 11"
   ]
  },
  {
   "cell_type": "code",
   "execution_count": 2,
   "id": "extreme-theology",
   "metadata": {},
   "outputs": [],
   "source": [
    "import torch\n",
    "import matplotlib.pyplot as plt\n",
    "from IPython.display import display, Math"
   ]
  },
  {
   "cell_type": "code",
   "execution_count": 3,
   "id": "theoretical-beijing",
   "metadata": {},
   "outputs": [],
   "source": [
    "import torch.nn as nn\n",
    "import torch.optim as optim\n",
    "import torch.nn.init as init\n",
    "from torchvision import datasets\n",
    "from torchvision import transforms\n",
    "from torch.utils.data import DataLoader"
   ]
  },
  {
   "cell_type": "code",
   "execution_count": 4,
   "id": "orange-kentucky",
   "metadata": {},
   "outputs": [],
   "source": [
    "def conv_1_block(in_chn, out_chn, act_fn, stride = 1): # kernel size = 1\n",
    "    model = nn.Sequential(\n",
    "        nn.Conv2d(in_chn, out_chn, kernel_size = 1, stride = stride),\n",
    "        act_fn,\n",
    "    )\n",
    "    return(model)\n",
    "\n",
    "def conv_3_block(in_chn, out_chn, act_fn):\n",
    "    model = nn.Sequential(\n",
    "        nn.Conv2d(in_chn, out_chn, kernel_size = 3, padding = 1),\n",
    "        act_fn,\n",
    "    )\n",
    "    return(model)\n",
    "\n",
    "class bottle_neck(nn.Module):\n",
    "    def __init__(self, in_chn, mid_chn, out_chn, act_fn, down_shape = False, num_classes = 10):\n",
    "        super(bottle_neck, self).__init__()\n",
    "        self.act_fn = act_fn\n",
    "        self.down_shape = down_shape\n",
    "        if self.down_shape:\n",
    "            self.layer = nn.Sequential(\n",
    "                conv_1_block(in_chn, mid_chn, act_fn, stride = 2),\n",
    "                conv_3_block(mid_chn, mid_chn, act_fn),\n",
    "                conv_1_block(mid_chn, out_chn, act_fn),\n",
    "            )\n",
    "            self.downsample = nn.Conv2d(in_chn, out_chn, kernel_size = 1, stride = 2) # reduce shape\n",
    "        else:\n",
    "            self.layer = nn.Sequential(\n",
    "                conv_1_block(in_chn, mid_chn, act_fn, stride = 1),\n",
    "                conv_3_block(mid_chn, mid_chn, act_fn),\n",
    "                conv_1_block(mid_chn, out_chn, act_fn),\n",
    "            )\n",
    "        self.dim_equalizer = nn.Conv2d(in_chn, out_chn, kernel_size = 1)\n",
    "\n",
    "    def forward(self, x):\n",
    "        if self.down_shape: # down sampling (bottle neck)\n",
    "            out = self.layer(x) # normal connection\n",
    "            downsample = self.downsample(x) # residual skip connection\n",
    "            out = out + downsample\n",
    "        else:\n",
    "            out = self.layer(x) # normal connection\n",
    "            if x.size() is not out.size:\n",
    "                x = self.dim_equalizer(x) # residual skip connection\n",
    "            out = out + x\n",
    "        return(out)"
   ]
  },
  {
   "cell_type": "code",
   "execution_count": 5,
   "id": "familiar-weight",
   "metadata": {},
   "outputs": [],
   "source": [
    "class my_resnet(nn.Module):\n",
    "    def __init__(self, in_chn, base_chn, act_fn, num_classes = 10):\n",
    "        super(my_resnet, self).__init__()\n",
    "        self.act_fn = act_fn\n",
    "        self.layer_1 = nn.Sequential(\n",
    "            nn.Conv2d(in_chn, base_chn, kernel_size = 7, stride = 2, padding = 3),\n",
    "            nn.ReLU(),\n",
    "            nn.MaxPool2d(kernel_size = 3, stride = 2, padding = 1),\n",
    "        )\n",
    "        \n",
    "        self.layer_2 = nn.Sequential(\n",
    "            bottle_neck(base_chn, base_chn, base_chn*2, self.act_fn),\n",
    "            bottle_neck(base_chn*2, base_chn, base_chn*2, self.act_fn),\n",
    "            bottle_neck(base_chn*2, base_chn, base_chn*2, self.act_fn, down_shape = True)\n",
    "        )\n",
    "        \n",
    "        self.layer_3 = nn.Sequential(\n",
    "            bottle_neck(base_chn*2, base_chn, base_chn*4, self.act_fn),\n",
    "            bottle_neck(base_chn*4, base_chn*2, base_chn*4, self.act_fn),\n",
    "            bottle_neck(base_chn*4, base_chn*2, base_chn*4, self.act_fn),\n",
    "            bottle_neck(base_chn*4, base_chn*2, base_chn*8, self.act_fn, down_shape = True)\n",
    "        )\n",
    "    \n",
    "        self.maxpool = nn.MaxPool2d(kernel_size = 2, stride = 1)\n",
    "        self.fc_layer = nn.Linear(base_chn*8, num_classes)\n",
    "        \n",
    "    def forward(self, x):\n",
    "        out = self.layer_1(x)\n",
    "        out = self.layer_2(out)\n",
    "        out = self.layer_3(out)\n",
    "        out = self.maxpool(out)\n",
    "        out = out.view(batch_size, -1)\n",
    "        out = self.fc_layer(out)\n",
    "        return(out)\n"
   ]
  },
  {
   "cell_type": "code",
   "execution_count": 6,
   "id": "interpreted-butter",
   "metadata": {},
   "outputs": [],
   "source": [
    "mnist_train = datasets.MNIST(\"./\", train=True,\n",
    "                            transform = transforms.ToTensor(),\n",
    "                            target_transform=None,\n",
    "                            download=True)"
   ]
  },
  {
   "cell_type": "code",
   "execution_count": 7,
   "id": "written-detection",
   "metadata": {},
   "outputs": [],
   "source": [
    "mnist_test = datasets.MNIST(\"./\", train=False,\n",
    "                            transform = transforms.ToTensor(),\n",
    "                            target_transform=None,\n",
    "                            download=True)"
   ]
  },
  {
   "cell_type": "code",
   "execution_count": null,
   "id": "automatic-short",
   "metadata": {},
   "outputs": [],
   "source": []
  },
  {
   "cell_type": "code",
   "execution_count": 8,
   "id": "swiss-reform",
   "metadata": {},
   "outputs": [],
   "source": [
    "device = torch.device(\"cuda:0\")\n",
    "model = my_resnet(in_chn = 1, base_chn = 16, act_fn = nn.ReLU(), num_classes=len(mnist_train.classes)).to(device)\n"
   ]
  },
  {
   "cell_type": "code",
   "execution_count": 9,
   "id": "persistent-cylinder",
   "metadata": {},
   "outputs": [],
   "source": [
    "batch_size = 128\n",
    "learning_rate = 0.0002\n",
    "num_epoch = 10"
   ]
  },
  {
   "cell_type": "code",
   "execution_count": 10,
   "id": "accessible-agency",
   "metadata": {},
   "outputs": [],
   "source": [
    "loss_func = nn.CrossEntropyLoss()\n",
    "optimizer = optim.Adam(model.parameters(), lr = learning_rate)"
   ]
  },
  {
   "cell_type": "code",
   "execution_count": 11,
   "id": "realistic-germany",
   "metadata": {},
   "outputs": [],
   "source": [
    "train_loader = DataLoader(mnist_train, batch_size = batch_size,\n",
    "                         shuffle = True, num_workers = 2,\n",
    "                         drop_last = True)"
   ]
  },
  {
   "cell_type": "code",
   "execution_count": 12,
   "id": "satisfactory-underground",
   "metadata": {},
   "outputs": [],
   "source": [
    "test_loader = DataLoader(mnist_test, batch_size = batch_size,\n",
    "                         shuffle = False, num_workers = 2,\n",
    "                         drop_last = True)"
   ]
  },
  {
   "cell_type": "code",
   "execution_count": 13,
   "id": "severe-reference",
   "metadata": {},
   "outputs": [
    {
     "output_type": "stream",
     "name": "stdout",
     "text": [
      "tensor(2.3007, device='cuda:0', grad_fn=<NllLossBackward>)\n",
      "tensor(0.3600, device='cuda:0', grad_fn=<NllLossBackward>)\n",
      "tensor(0.1132, device='cuda:0', grad_fn=<NllLossBackward>)\n",
      "tensor(0.0903, device='cuda:0', grad_fn=<NllLossBackward>)\n",
      "tensor(0.1445, device='cuda:0', grad_fn=<NllLossBackward>)\n",
      "tensor(0.1408, device='cuda:0', grad_fn=<NllLossBackward>)\n",
      "tensor(0.1022, device='cuda:0', grad_fn=<NllLossBackward>)\n",
      "tensor(0.0782, device='cuda:0', grad_fn=<NllLossBackward>)\n",
      "tensor(0.0587, device='cuda:0', grad_fn=<NllLossBackward>)\n",
      "tensor(0.0971, device='cuda:0', grad_fn=<NllLossBackward>)\n"
     ]
    }
   ],
   "source": [
    "arr_loss = []\n",
    "for ii in range(num_epoch):\n",
    "    for jj, [image, label] in enumerate(train_loader):\n",
    "        x = image.to(device)\n",
    "        y_ = label.to(device)\n",
    "        \n",
    "        optimizer.zero_grad() # initialize 0 for each data\n",
    "        output = model.forward(x)\n",
    "        loss = loss_func(output, y_)\n",
    "        loss.backward() # calculate back prop (gradient)\n",
    "        optimizer.step() # update weight\n",
    "        if jj % 1000 == 0:\n",
    "            print(loss)\n",
    "            arr_loss.append(loss.cpu().detach().numpy())\n",
    "        "
   ]
  },
  {
   "cell_type": "code",
   "execution_count": 14,
   "id": "noticed-appearance",
   "metadata": {},
   "outputs": [],
   "source": [
    "btnk = bottle_neck(16, 4,16, nn.ReLU()).to(device)"
   ]
  },
  {
   "cell_type": "code",
   "execution_count": 24,
   "id": "robust-converter",
   "metadata": {},
   "outputs": [
    {
     "output_type": "execute_result",
     "data": {
      "text/plain": [
       "torch.Size([128, 1, 28, 28])"
      ]
     },
     "metadata": {},
     "execution_count": 24
    }
   ],
   "source": [
    "x.size()"
   ]
  },
  {
   "cell_type": "code",
   "execution_count": 19,
   "id": "pharmaceutical-huntington",
   "metadata": {},
   "outputs": [
    {
     "output_type": "stream",
     "name": "stdout",
     "text": [
      "Test acc: 0.9814703464508057\n"
     ]
    }
   ],
   "source": [
    "correct = 0\n",
    "total = 0\n",
    "\n",
    "with torch.no_grad():\n",
    "    for image, label in test_loader:\n",
    "        x = image.to(device)\n",
    "        y_ = label.to(device)\n",
    "        output = model.forward(x)\n",
    "        _, output_index = torch.max(output, 1)\n",
    "        total += label.size(0)\n",
    "        correct += (output_index == y_).sum().float()\n",
    "    print('Test acc: {}'.format(correct/total))"
   ]
  },
  {
   "cell_type": "code",
   "execution_count": null,
   "id": "announced-springer",
   "metadata": {},
   "outputs": [],
   "source": []
  }
 ],
 "metadata": {
  "kernelspec": {
   "name": "python3",
   "display_name": "Python 3.6.12 64-bit ('bt': conda)"
  },
  "language_info": {
   "codemirror_mode": {
    "name": "ipython",
    "version": 3
   },
   "file_extension": ".py",
   "mimetype": "text/x-python",
   "name": "python",
   "nbconvert_exporter": "python",
   "pygments_lexer": "ipython3",
   "version": "3.6.12"
  },
  "interpreter": {
   "hash": "a40cf4423ec2b7d3ac5038b9c4bc2a5fd550178d10053adc442af0d8750dc3c0"
  }
 },
 "nbformat": 4,
 "nbformat_minor": 5
}