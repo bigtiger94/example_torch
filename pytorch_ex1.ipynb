{
 "cells": [
  {
   "cell_type": "markdown",
   "id": "pretty-garlic",
   "metadata": {},
   "source": [
    "# 파이토치 첫 시작, 텐서 생성, autograd 등\n",
    "https://pytorch.org/docs/stable/autograd.html#function"
   ]
  },
  {
   "cell_type": "code",
   "execution_count": 1,
   "id": "polyphonic-large",
   "metadata": {},
   "outputs": [],
   "source": [
    "import torch"
   ]
  },
  {
   "cell_type": "code",
   "execution_count": 2,
   "id": "negative-package",
   "metadata": {},
   "outputs": [
    {
     "name": "stdout",
     "output_type": "stream",
     "text": [
      "tensor([[0., 0., 0.],\n",
      "        [0., 0., 0.]], device='cuda:0')\n"
     ]
    }
   ],
   "source": [
    "cpu_tensor = torch.zeros(2,3)\n",
    "device = torch.device(\"cuda:0\")\n",
    "gpu_tensor = cpu_tensor.to(device)\n",
    "print(gpu_tensor)"
   ]
  },
  {
   "cell_type": "code",
   "execution_count": 7,
   "id": "heard-election",
   "metadata": {},
   "outputs": [],
   "source": [
    "X = torch.Tensor(2,3)\n",
    "# or\n",
    "X = torch.tensor([[1,2,3],[4,5,6]])"
   ]
  },
  {
   "cell_type": "code",
   "execution_count": 94,
   "id": "sitting-withdrawal",
   "metadata": {},
   "outputs": [],
   "source": [
    "X_tensor = torch.tensor(data=[2.0, 3.0], requires_grad=True)\n",
    "# requires_grad -> 해당 텐서의 기울기 저장 여부"
   ]
  },
  {
   "cell_type": "code",
   "execution_count": 95,
   "id": "packed-commercial",
   "metadata": {},
   "outputs": [],
   "source": [
    "x = torch.tensor(data=[2.0, 3.0], requires_grad = True)\n",
    "y = x**2\n",
    "z = 2*y + 3"
   ]
  },
  {
   "cell_type": "code",
   "execution_count": 96,
   "id": "rocky-palmer",
   "metadata": {},
   "outputs": [
    {
     "name": "stdout",
     "output_type": "stream",
     "text": [
      "tensor([ 8., 12.]) None None\n"
     ]
    },
    {
     "name": "stderr",
     "output_type": "stream",
     "text": [
      "c:\\users\\haenm\\anaconda3\\envs\\bt\\lib\\site-packages\\ipykernel_launcher.py:5: UserWarning: The .grad attribute of a Tensor that is not a leaf Tensor is being accessed. Its .grad attribute won't be populated during autograd.backward(). If you indeed want the gradient for a non-leaf Tensor, use .retain_grad() on the non-leaf Tensor. If you access the non-leaf Tensor by mistake, make sure you access the leaf Tensor instead. See github.com/pytorch/pytorch/pull/30531 for more informations.\n",
      "  \"\"\"\n"
     ]
    }
   ],
   "source": [
    "target = torch.tensor([3.0, 4.0])\n",
    "loss = torch.sum(torch.abs(z-target))\n",
    "loss.backward()\n",
    "\n",
    "print(x.grad, y.grad, z.grad)"
   ]
  },
  {
   "cell_type": "code",
   "execution_count": null,
   "id": "instructional-murray",
   "metadata": {},
   "outputs": [],
   "source": []
  },
  {
   "cell_type": "code",
   "execution_count": 127,
   "id": "medieval-shore",
   "metadata": {},
   "outputs": [
    {
     "name": "stdout",
     "output_type": "stream",
     "text": [
      "tensor([[1., 1.],\n",
      "        [1., 1.]], requires_grad=True)\n"
     ]
    }
   ],
   "source": [
    "x = torch.ones(2, 2, requires_grad = True)\n",
    "print(x)"
   ]
  },
  {
   "cell_type": "code",
   "execution_count": 128,
   "id": "adolescent-grounds",
   "metadata": {},
   "outputs": [
    {
     "name": "stdout",
     "output_type": "stream",
     "text": [
      "tensor([[3., 3.],\n",
      "        [3., 3.]], grad_fn=<AddBackward0>)\n"
     ]
    }
   ],
   "source": [
    "y = x+2\n",
    "print(y)"
   ]
  },
  {
   "cell_type": "code",
   "execution_count": 136,
   "id": "received-wings",
   "metadata": {},
   "outputs": [
    {
     "data": {
      "text/plain": [
       "<AddBackward0 at 0x2744fc01908>"
      ]
     },
     "execution_count": 136,
     "metadata": {},
     "output_type": "execute_result"
    }
   ],
   "source": [
    "y.grad_fn"
   ]
  },
  {
   "cell_type": "code",
   "execution_count": 143,
   "id": "defensive-murder",
   "metadata": {},
   "outputs": [
    {
     "name": "stdout",
     "output_type": "stream",
     "text": [
      "tensor([[27., 27.],\n",
      "        [27., 27.]], grad_fn=<MulBackward0>)\n",
      "tensor(27., grad_fn=<MeanBackward0>)\n"
     ]
    }
   ],
   "source": [
    "z = y*y*3\n",
    "out = z.mean()\n",
    "print(z)\n",
    "print(out)"
   ]
  },
  {
   "cell_type": "code",
   "execution_count": 144,
   "id": "controlling-creature",
   "metadata": {},
   "outputs": [
    {
     "name": "stdout",
     "output_type": "stream",
     "text": [
      "tensor([[13.5000, 13.5000],\n",
      "        [13.5000, 13.5000]])\n"
     ]
    }
   ],
   "source": [
    "out.backward()\n",
    "print(x.grad)"
   ]
  },
  {
   "cell_type": "code",
   "execution_count": 145,
   "id": "affecting-burns",
   "metadata": {},
   "outputs": [],
   "source": [
    "optimizer.zero_grad()"
   ]
  },
  {
   "cell_type": "code",
   "execution_count": 28,
   "id": "specialized-reality",
   "metadata": {},
   "outputs": [],
   "source": [
    "a = torch.randn(2,2)\n",
    "a = ((a*3) / (a-1))"
   ]
  },
  {
   "cell_type": "code",
   "execution_count": 29,
   "id": "affecting-hayes",
   "metadata": {},
   "outputs": [
    {
     "name": "stdout",
     "output_type": "stream",
     "text": [
      "False\n"
     ]
    }
   ],
   "source": [
    "print(a.requires_grad)"
   ]
  },
  {
   "cell_type": "code",
   "execution_count": 45,
   "id": "technological-wildlife",
   "metadata": {},
   "outputs": [
    {
     "name": "stdout",
     "output_type": "stream",
     "text": [
      "tensor(119.3828)\n"
     ]
    }
   ],
   "source": [
    "a.requires_grad_(False)\n",
    "b = (a*a).sum()\n",
    "print(b)"
   ]
  },
  {
   "cell_type": "code",
   "execution_count": 46,
   "id": "speaking-northeast",
   "metadata": {},
   "outputs": [
    {
     "name": "stdout",
     "output_type": "stream",
     "text": [
      "tensor(119.3828, grad_fn=<SumBackward0>)\n"
     ]
    }
   ],
   "source": [
    "a.requires_grad_(True)\n",
    "c = (a*a).sum()\n",
    "print(c)"
   ]
  },
  {
   "cell_type": "code",
   "execution_count": 70,
   "id": "gross-population",
   "metadata": {},
   "outputs": [],
   "source": []
  },
  {
   "cell_type": "code",
   "execution_count": 106,
   "id": "organic-silly",
   "metadata": {},
   "outputs": [
    {
     "name": "stdout",
     "output_type": "stream",
     "text": [
      "tensor([-680.5999, 1444.8257, -150.5611], grad_fn=<MulBackward0>)\n"
     ]
    }
   ],
   "source": [
    "x = torch.randn(3, requires_grad = True)\n",
    "y = x*2\n",
    "while y.data.norm() < 1000:\n",
    "    y = y*2\n",
    "print(y)"
   ]
  },
  {
   "cell_type": "code",
   "execution_count": 110,
   "id": "psychological-ticket",
   "metadata": {},
   "outputs": [],
   "source": [
    "v = torch.tensor([0.1, 1.0, 0.0001], dtype = torch.float)\n",
    "y.backward(v)"
   ]
  },
  {
   "cell_type": "code",
   "execution_count": 111,
   "id": "micro-level",
   "metadata": {},
   "outputs": [
    {
     "name": "stdout",
     "output_type": "stream",
     "text": [
      "tensor([4.0960e+02, 4.0960e+03, 4.0960e-01])\n"
     ]
    }
   ],
   "source": [
    "print(x.grad)"
   ]
  },
  {
   "cell_type": "code",
   "execution_count": null,
   "id": "productive-approval",
   "metadata": {},
   "outputs": [],
   "source": []
  },
  {
   "cell_type": "markdown",
   "id": "statistical-mississippi",
   "metadata": {},
   "source": [
    "# simple linear regression"
   ]
  },
  {
   "cell_type": "code",
   "execution_count": 146,
   "id": "systematic-words",
   "metadata": {},
   "outputs": [],
   "source": [
    "import torch\n",
    "import torch.nn as nn\n",
    "import torch.optim as optim"
   ]
  },
  {
   "cell_type": "code",
   "execution_count": 147,
   "id": "becoming-crazy",
   "metadata": {},
   "outputs": [],
   "source": [
    "num_data = 1000\n",
    "num_epoch = 500"
   ]
  },
  {
   "cell_type": "code",
   "execution_count": 235,
   "id": "split-blake",
   "metadata": {},
   "outputs": [],
   "source": [
    "x = nn.init.uniform_(torch.Tensor(num_data, 1), -10, 10) #float32\n",
    "noise = nn.init.normal_(torch.FloatTensor(num_data, 1), std=1) # float32\n",
    "y = x*2 + 3\n",
    "y_noise = y+noise"
   ]
  },
  {
   "cell_type": "code",
   "execution_count": 250,
   "id": "certain-madrid",
   "metadata": {},
   "outputs": [],
   "source": [
    "model = nn.Linear(1, 1) # input features, output features"
   ]
  },
  {
   "cell_type": "code",
   "execution_count": 251,
   "id": "familiar-lending",
   "metadata": {},
   "outputs": [],
   "source": [
    "loss_func = nn.L1Loss()\n",
    "optimizer = optim.SGD(model.parameters(), lr = 0.01, momentum=0.0001)"
   ]
  },
  {
   "cell_type": "code",
   "execution_count": 252,
   "id": "regular-undergraduate",
   "metadata": {},
   "outputs": [],
   "source": [
    "x.grad"
   ]
  },
  {
   "cell_type": "code",
   "execution_count": 253,
   "id": "spare-slope",
   "metadata": {},
   "outputs": [],
   "source": [
    "optimizer.zero_grad()"
   ]
  },
  {
   "cell_type": "code",
   "execution_count": 254,
   "id": "million-audit",
   "metadata": {},
   "outputs": [
    {
     "name": "stdout",
     "output_type": "stream",
     "text": [
      "tensor(14.7897)\n",
      "tensor(12.3926)\n",
      "tensor(10.0343)\n",
      "tensor(7.7394)\n",
      "tensor(5.5959)\n",
      "tensor(3.8898)\n",
      "tensor(3.1790)\n",
      "tensor(3.0064)\n",
      "tensor(2.8978)\n",
      "tensor(2.7957)\n",
      "tensor(2.6947)\n",
      "tensor(2.5941)\n",
      "tensor(2.4938)\n",
      "tensor(2.3944)\n",
      "tensor(2.2963)\n",
      "tensor(2.1987)\n",
      "tensor(2.1025)\n",
      "tensor(2.0074)\n",
      "tensor(1.9147)\n",
      "tensor(1.8249)\n",
      "tensor(1.7370)\n",
      "tensor(1.6516)\n",
      "tensor(1.5690)\n",
      "tensor(1.4900)\n",
      "tensor(1.4167)\n",
      "tensor(1.3480)\n",
      "tensor(1.2830)\n",
      "tensor(1.2221)\n",
      "tensor(1.1651)\n",
      "tensor(1.1136)\n",
      "tensor(1.0670)\n",
      "tensor(1.0255)\n",
      "tensor(0.9889)\n",
      "tensor(0.9574)\n",
      "tensor(0.9296)\n",
      "tensor(0.9049)\n",
      "tensor(0.8832)\n",
      "tensor(0.8648)\n",
      "tensor(0.8489)\n",
      "tensor(0.8347)\n",
      "tensor(0.8220)\n",
      "tensor(0.8115)\n",
      "tensor(0.8021)\n",
      "tensor(0.7938)\n",
      "tensor(0.7871)\n",
      "tensor(0.7813)\n",
      "tensor(0.7764)\n",
      "tensor(0.7724)\n",
      "tensor(0.7689)\n",
      "tensor(0.7660)\n"
     ]
    }
   ],
   "source": [
    "for ii in range(num_epoch):\n",
    "    optimizer.zero_grad()\n",
    "    output = model(x)\n",
    "    \n",
    "    loss = loss_func(output, y_noise) # model output, true value\n",
    "    loss.backward()\n",
    "    optimizer.step()\n",
    "    \n",
    "    if  ii % 10 == 0:\n",
    "        print(loss.data)"
   ]
  },
  {
   "cell_type": "code",
   "execution_count": 255,
   "id": "other-brand",
   "metadata": {},
   "outputs": [
    {
     "name": "stdout",
     "output_type": "stream",
     "text": [
      "None\n",
      "None\n"
     ]
    },
    {
     "name": "stderr",
     "output_type": "stream",
     "text": [
      "c:\\users\\haenm\\anaconda3\\envs\\bt\\lib\\site-packages\\ipykernel_launcher.py:1: UserWarning: The .grad attribute of a Tensor that is not a leaf Tensor is being accessed. Its .grad attribute won't be populated during autograd.backward(). If you indeed want the gradient for a non-leaf Tensor, use .retain_grad() on the non-leaf Tensor. If you access the non-leaf Tensor by mistake, make sure you access the leaf Tensor instead. See github.com/pytorch/pytorch/pull/30531 for more informations.\n",
      "  \"\"\"Entry point for launching an IPython kernel.\n"
     ]
    }
   ],
   "source": [
    "print(output.grad)\n",
    "print(x.grad)"
   ]
  },
  {
   "cell_type": "code",
   "execution_count": 256,
   "id": "opened-uzbekistan",
   "metadata": {},
   "outputs": [
    {
     "name": "stdout",
     "output_type": "stream",
     "text": [
      "2.002915382385254 2.811383008956909\n"
     ]
    }
   ],
   "source": [
    "ls_param = list(model.parameters())\n",
    "print(ls_param[0].item(), ls_param[1].item()) # coef, intercept"
   ]
  },
  {
   "cell_type": "code",
   "execution_count": 257,
   "id": "peaceful-regulation",
   "metadata": {},
   "outputs": [
    {
     "data": {
      "text/plain": [
       "tensor([-0.1500])"
      ]
     },
     "execution_count": 257,
     "metadata": {},
     "output_type": "execute_result"
    }
   ],
   "source": [
    "ls_param[1].grad"
   ]
  },
  {
   "cell_type": "code",
   "execution_count": 258,
   "id": "portuguese-mambo",
   "metadata": {},
   "outputs": [],
   "source": [
    "from matplotlib import pyplot as plt"
   ]
  },
  {
   "cell_type": "code",
   "execution_count": 259,
   "id": "current-weapon",
   "metadata": {},
   "outputs": [
    {
     "data": {
      "text/plain": [
       "[<matplotlib.lines.Line2D at 0x27460f40f28>]"
      ]
     },
     "execution_count": 259,
     "metadata": {},
     "output_type": "execute_result"
    },
    {
     "data": {
      "image/png": "[encoded data removed]",
      "text/plain": [
       "<Figure size 1008x504 with 1 Axes>"
      ]
     },
     "metadata": {
      "needs_background": "light"
     },
     "output_type": "display_data"
    }
   ],
   "source": [
    "plt.figure(figsize = (14, 7))\n",
    "plt.scatter(x, y_noise)\n",
    "plt.plot(x, x*ls_param[0].item()+ls_param[1].item(), color=\"red\" )"
   ]
  },
  {
   "cell_type": "code",
   "execution_count": 265,
   "id": "departmental-partition",
   "metadata": {},
   "outputs": [
    {
     "data": {
      "text/plain": [
       "defaultdict(dict,\n",
       "            {Parameter containing:\n",
       "             tensor([[2.0029]], requires_grad=True): {'momentum_buffer': tensor([[-0.0099]])},\n",
       "             Parameter containing:\n",
       "             tensor([2.8114], requires_grad=True): {'momentum_buffer': tensor([-0.1500])}})"
      ]
     },
     "execution_count": 265,
     "metadata": {},
     "output_type": "execute_result"
    }
   ],
   "source": [
    "optimizer.dd"
   ]
  },
  {
   "cell_type": "code",
   "execution_count": null,
   "id": "contained-genealogy",
   "metadata": {},
   "outputs": [],
   "source": []
  }
 ],
 "metadata": {
  "kernelspec": {
   "display_name": "Python 3",
   "language": "python",
   "name": "python3"
  },
  "language_info": {
   "codemirror_mode": {
    "name": "ipython",
    "version": 3
   },
   "file_extension": ".py",
   "mimetype": "text/x-python",
   "name": "python",
   "nbconvert_exporter": "python",
   "pygments_lexer": "ipython3",
   "version": "3.6.12"
  }
 },
 "nbformat": 4,
 "nbformat_minor": 5
}
