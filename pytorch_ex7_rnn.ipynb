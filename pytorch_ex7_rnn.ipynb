{
 "cells": [
  {
   "cell_type": "code",
   "execution_count": 1,
   "id": "attached-offering",
   "metadata": {},
   "outputs": [],
   "source": [
    "SEED = 11"
   ]
  },
  {
   "cell_type": "code",
   "execution_count": 2,
   "id": "balanced-horizon",
   "metadata": {},
   "outputs": [],
   "source": [
    "import numpy as np\n",
    "import torch\n",
    "import matplotlib.pyplot as plt\n",
    "from IPython.display import display, Math"
   ]
  },
  {
   "cell_type": "code",
   "execution_count": 3,
   "id": "polished-scene",
   "metadata": {},
   "outputs": [],
   "source": [
    "import torch.nn as nn\n",
    "import torch.optim as optim\n",
    "# import torch.nn.init as init\n",
    "# from torchvision import datasets\n",
    "# from torchvision import transforms\n",
    "# from torch.utils.data import DataLoader"
   ]
  },
  {
   "cell_type": "code",
   "execution_count": 4,
   "id": "invisible-morrison",
   "metadata": {},
   "outputs": [],
   "source": [
    "n_hidden = 35\n",
    "lr = 0.01\n",
    "epochs = 1000"
   ]
  },
  {
   "cell_type": "code",
   "execution_count": 7,
   "id": "physical-intention",
   "metadata": {},
   "outputs": [],
   "source": [
    "my_string = 'hello pytorch. how long can a rnn cell remember? i am a boy and you are a girl. can you make a pancake for mommy?'\n",
    "chars = 'abcdefghijklmnopqrstuvwxyz ?!.,:;01'\n",
    "char_list = [i for i in chars]\n",
    "n_letters = len(char_list)"
   ]
  },
  {
   "cell_type": "code",
   "execution_count": 8,
   "id": "protecting-command",
   "metadata": {},
   "outputs": [],
   "source": [
    "def str2onehot(string):\n",
    "    start = np.zeros(shape = n_letters, dtype = int)\n",
    "    end = np.zeros(shape = n_letters, dtype = int)\n",
    "    start[-2] = 1\n",
    "    end[-1] = 1\n",
    "    for c in string:\n",
    "        idx = char_list.index(c)\n",
    "        zero = np.zeros(shape = n_letters, dtype = int)\n",
    "        zero[idx] = 1\n",
    "        start = np.vstack([start, zero])\n",
    "    output = np.vstack([start, end])\n",
    "    return output\n",
    "\n",
    "def onehot2word(onehot_1):\n",
    "    onehot = torch.Tensor.numpy(onehot_1)\n",
    "    return char_list[onehot.argmax()]"
   ]
  },
  {
   "cell_type": "code",
   "execution_count": 9,
   "id": "essential-volleyball",
   "metadata": {},
   "outputs": [],
   "source": [
    "class my_RNN(nn.Module):\n",
    "    def __init__(self, input_size, hidden_size, output_size):\n",
    "        super(my_RNN, self).__init__()\n",
    "        self.input_size = input_size\n",
    "        self.hidden_size = hidden_size\n",
    "        self.output_size = output_size\n",
    "        \n",
    "        self.in2hid = nn.Linear(input_size, hidden_size)\n",
    "        self.hid2hid = nn.Linear(hidden_size, hidden_size)\n",
    "        self.hid2out = nn.Linear(hidden_size, output_size)\n",
    "        self.act_fn = nn.Tanh()\n",
    "        \n",
    "    def forward(self, input, hidden):\n",
    "        hidden = self.act_fn(self.in2hid(input)+self.hid2hid(hidden))\n",
    "        \n",
    "#         hidden = self.act_fn(self.hid2hid(hidden)+self.hid2hid(hidden))\n",
    "        output = self.hid2out(hidden)\n",
    "        return output, hidden\n",
    "    \n",
    "    def init_hidden(self):\n",
    "        return torch.zeros(1, self.hidden_size)\n",
    "    \n",
    "\n",
    "    "
   ]
  },
  {
   "cell_type": "code",
   "execution_count": 10,
   "id": "internal-smoke",
   "metadata": {},
   "outputs": [],
   "source": [
    "rnn = my_RNN(n_letters, n_hidden, n_letters)"
   ]
  },
  {
   "cell_type": "code",
   "execution_count": 11,
   "id": "pregnant-conspiracy",
   "metadata": {},
   "outputs": [],
   "source": [
    "loss_func = nn.MSELoss()\n",
    "optimizer = torch.optim.Adam(rnn.parameters(), lr = lr)"
   ]
  },
  {
   "cell_type": "code",
   "execution_count": 12,
   "id": "moderate-curve",
   "metadata": {},
   "outputs": [],
   "source": [
    "one_hot = torch.from_numpy(str2onehot(my_string)).type_as(torch.FloatTensor())"
   ]
  },
  {
   "cell_type": "code",
   "execution_count": 13,
   "id": "resident-huntington",
   "metadata": {},
   "outputs": [
    {
     "output_type": "stream",
     "name": "stdout",
     "text": [
      "tensor(5.7975, grad_fn=<AddBackward0>)\n",
      "tensor(2.5315, grad_fn=<AddBackward0>)\n",
      "tensor(1.9824, grad_fn=<AddBackward0>)\n",
      "tensor(1.6172, grad_fn=<AddBackward0>)\n",
      "tensor(1.4545, grad_fn=<AddBackward0>)\n",
      "tensor(1.2237, grad_fn=<AddBackward0>)\n",
      "tensor(1.0580, grad_fn=<AddBackward0>)\n",
      "tensor(0.9933, grad_fn=<AddBackward0>)\n",
      "tensor(0.8684, grad_fn=<AddBackward0>)\n",
      "tensor(0.8172, grad_fn=<AddBackward0>)\n",
      "tensor(0.7504, grad_fn=<AddBackward0>)\n",
      "tensor(0.6984, grad_fn=<AddBackward0>)\n",
      "tensor(0.6648, grad_fn=<AddBackward0>)\n",
      "tensor(0.8776, grad_fn=<AddBackward0>)\n",
      "tensor(0.6723, grad_fn=<AddBackward0>)\n",
      "tensor(0.6207, grad_fn=<AddBackward0>)\n",
      "tensor(0.5896, grad_fn=<AddBackward0>)\n",
      "tensor(0.6440, grad_fn=<AddBackward0>)\n",
      "tensor(0.5631, grad_fn=<AddBackward0>)\n",
      "tensor(0.5353, grad_fn=<AddBackward0>)\n",
      "tensor(0.5923, grad_fn=<AddBackward0>)\n",
      "tensor(0.5205, grad_fn=<AddBackward0>)\n",
      "tensor(0.4978, grad_fn=<AddBackward0>)\n",
      "tensor(0.5484, grad_fn=<AddBackward0>)\n",
      "tensor(0.4908, grad_fn=<AddBackward0>)\n",
      "tensor(0.4671, grad_fn=<AddBackward0>)\n",
      "tensor(0.4928, grad_fn=<AddBackward0>)\n",
      "tensor(0.4517, grad_fn=<AddBackward0>)\n",
      "tensor(0.5267, grad_fn=<AddBackward0>)\n",
      "tensor(0.4492, grad_fn=<AddBackward0>)\n",
      "tensor(0.4281, grad_fn=<AddBackward0>)\n",
      "tensor(0.4694, grad_fn=<AddBackward0>)\n",
      "tensor(0.4283, grad_fn=<AddBackward0>)\n",
      "tensor(0.4120, grad_fn=<AddBackward0>)\n",
      "tensor(0.5125, grad_fn=<AddBackward0>)\n",
      "tensor(0.4524, grad_fn=<AddBackward0>)\n",
      "tensor(0.4064, grad_fn=<AddBackward0>)\n",
      "tensor(0.4024, grad_fn=<AddBackward0>)\n",
      "tensor(0.4091, grad_fn=<AddBackward0>)\n",
      "tensor(0.4254, grad_fn=<AddBackward0>)\n",
      "tensor(0.3798, grad_fn=<AddBackward0>)\n",
      "tensor(0.4620, grad_fn=<AddBackward0>)\n",
      "tensor(0.3993, grad_fn=<AddBackward0>)\n",
      "tensor(0.3810, grad_fn=<AddBackward0>)\n",
      "tensor(0.3679, grad_fn=<AddBackward0>)\n",
      "tensor(0.3815, grad_fn=<AddBackward0>)\n",
      "tensor(0.4002, grad_fn=<AddBackward0>)\n",
      "tensor(0.3702, grad_fn=<AddBackward0>)\n",
      "tensor(0.3562, grad_fn=<AddBackward0>)\n",
      "tensor(0.3531, grad_fn=<AddBackward0>)\n",
      "tensor(0.4950, grad_fn=<AddBackward0>)\n",
      "tensor(0.3869, grad_fn=<AddBackward0>)\n",
      "tensor(0.3577, grad_fn=<AddBackward0>)\n",
      "tensor(0.3476, grad_fn=<AddBackward0>)\n",
      "tensor(0.3410, grad_fn=<AddBackward0>)\n",
      "tensor(0.3554, grad_fn=<AddBackward0>)\n",
      "tensor(0.3432, grad_fn=<AddBackward0>)\n",
      "tensor(0.3334, grad_fn=<AddBackward0>)\n",
      "tensor(0.4041, grad_fn=<AddBackward0>)\n",
      "tensor(0.3493, grad_fn=<AddBackward0>)\n",
      "tensor(0.3284, grad_fn=<AddBackward0>)\n",
      "tensor(0.3205, grad_fn=<AddBackward0>)\n",
      "tensor(0.3937, grad_fn=<AddBackward0>)\n",
      "tensor(0.4059, grad_fn=<AddBackward0>)\n",
      "tensor(0.3441, grad_fn=<AddBackward0>)\n",
      "tensor(0.3288, grad_fn=<AddBackward0>)\n",
      "tensor(0.3190, grad_fn=<AddBackward0>)\n",
      "tensor(0.3178, grad_fn=<AddBackward0>)\n",
      "tensor(0.3894, grad_fn=<AddBackward0>)\n",
      "tensor(0.3492, grad_fn=<AddBackward0>)\n",
      "tensor(0.3260, grad_fn=<AddBackward0>)\n",
      "tensor(0.3158, grad_fn=<AddBackward0>)\n",
      "tensor(0.3092, grad_fn=<AddBackward0>)\n",
      "tensor(0.3093, grad_fn=<AddBackward0>)\n",
      "tensor(0.3830, grad_fn=<AddBackward0>)\n",
      "tensor(0.3327, grad_fn=<AddBackward0>)\n",
      "tensor(0.3162, grad_fn=<AddBackward0>)\n",
      "tensor(0.3062, grad_fn=<AddBackward0>)\n",
      "tensor(0.3485, grad_fn=<AddBackward0>)\n",
      "tensor(0.3116, grad_fn=<AddBackward0>)\n",
      "tensor(0.3230, grad_fn=<AddBackward0>)\n",
      "tensor(0.3125, grad_fn=<AddBackward0>)\n",
      "tensor(0.3008, grad_fn=<AddBackward0>)\n",
      "tensor(0.3077, grad_fn=<AddBackward0>)\n",
      "tensor(0.2965, grad_fn=<AddBackward0>)\n",
      "tensor(0.2888, grad_fn=<AddBackward0>)\n",
      "tensor(0.2870, grad_fn=<AddBackward0>)\n",
      "tensor(0.3841, grad_fn=<AddBackward0>)\n",
      "tensor(0.3046, grad_fn=<AddBackward0>)\n",
      "tensor(0.2936, grad_fn=<AddBackward0>)\n",
      "tensor(0.2842, grad_fn=<AddBackward0>)\n",
      "tensor(0.3584, grad_fn=<AddBackward0>)\n",
      "tensor(0.2913, grad_fn=<AddBackward0>)\n",
      "tensor(0.2801, grad_fn=<AddBackward0>)\n",
      "tensor(0.3765, grad_fn=<AddBackward0>)\n",
      "tensor(0.3136, grad_fn=<AddBackward0>)\n",
      "tensor(0.2920, grad_fn=<AddBackward0>)\n",
      "tensor(0.4529, grad_fn=<AddBackward0>)\n",
      "tensor(0.3041, grad_fn=<AddBackward0>)\n",
      "tensor(0.2826, grad_fn=<AddBackward0>)\n"
     ]
    }
   ],
   "source": [
    "for ii in range(epochs):\n",
    "    rnn.zero_grad()\n",
    "    total_loss = 0\n",
    "    hidden = rnn.init_hidden()\n",
    "    \n",
    "    ## go all sequence and sum all loss\n",
    "    for jj in range(one_hot.size()[0]-1):\n",
    "        input_ = one_hot[jj:jj+1, :]\n",
    "        target = one_hot[jj+1]\n",
    "        \n",
    "        output, hidden = rnn.forward(input_, hidden)\n",
    "        loss = loss_func(output.view(-1), target.view(-1))\n",
    "        \n",
    "        total_loss += loss\n",
    "        input_ = output\n",
    "    \n",
    "    # update weight after calculating all loss through sequence\n",
    "    total_loss.backward()\n",
    "    optimizer.step()\n",
    "    \n",
    "    if ii%10 == 0:\n",
    "        print(total_loss)\n",
    "    \n",
    "    "
   ]
  },
  {
   "cell_type": "code",
   "execution_count": 14,
   "id": "ready-prefix",
   "metadata": {},
   "outputs": [
    {
     "output_type": "execute_result",
     "data": {
      "text/plain": [
       "tensor(0.2760, grad_fn=<AddBackward0>)"
      ]
     },
     "metadata": {},
     "execution_count": 14
    }
   ],
   "source": [
    "total_loss"
   ]
  },
  {
   "cell_type": "code",
   "execution_count": 15,
   "id": "peripheral-humanity",
   "metadata": {},
   "outputs": [
    {
     "output_type": "execute_result",
     "data": {
      "text/plain": [
       "tensor([[-0.1255, -0.0404, -0.6356,  0.1626, -0.0112, -0.4381,  0.3585,  0.5888,\n",
       "          0.0530, -0.8257,  0.1955,  0.3604, -0.2566, -0.5012,  0.4825, -0.5124,\n",
       "          0.3779, -0.3167, -0.2582, -0.2034,  0.4278,  0.2537,  0.3895, -0.7635,\n",
       "         -0.6118,  0.6108,  0.2875,  0.2417,  0.6414, -0.6434,  0.0534,  0.0189,\n",
       "          0.2960,  0.1863,  0.1595]], grad_fn=<TanhBackward>)"
      ]
     },
     "metadata": {},
     "execution_count": 15
    }
   ],
   "source": [
    "hidden # weight of 2nd hidden layer "
   ]
  },
  {
   "cell_type": "code",
   "execution_count": 16,
   "id": "inappropriate-seattle",
   "metadata": {},
   "outputs": [
    {
     "output_type": "execute_result",
     "data": {
      "text/plain": [
       "torch.Size([1, 35])"
      ]
     },
     "metadata": {},
     "execution_count": 16
    }
   ],
   "source": [
    "output.shape"
   ]
  },
  {
   "cell_type": "code",
   "execution_count": 17,
   "id": "indie-savage",
   "metadata": {},
   "outputs": [
    {
     "output_type": "stream",
     "name": "stdout",
     "text": [
      "hell    oanaa    a  a                                                                                            \n"
     ]
    }
   ],
   "source": [
    "start = torch.zeros(1, n_letters)\n",
    "start[:,-2] = 1\n",
    "\n",
    "with torch.no_grad():\n",
    "    hidden = rnn.init_hidden()\n",
    "    input_ = start\n",
    "    output_string = ''\n",
    "    for ii in range(len(my_string)):\n",
    "        output, hidden = rnn.forward(input_, hidden)\n",
    "        output_string += onehot2word(output.data)\n",
    "        input_ = output\n",
    "        \n",
    "print(output_string)"
   ]
  },
  {
   "cell_type": "code",
   "execution_count": 18,
   "id": "brilliant-mauritius",
   "metadata": {},
   "outputs": [
    {
     "output_type": "execute_result",
     "data": {
      "text/plain": [
       "(tensor([[ 1.7619e-01, -1.4109e-02,  3.0419e-02,  8.0557e-03,  1.6432e-02,\n",
       "           1.0327e-02,  3.6577e-02,  3.3711e-03,  3.3934e-02,  3.7498e-19,\n",
       "          -2.8715e-03,  9.1544e-03,  1.1991e-01,  7.9978e-02,  9.2735e-02,\n",
       "           2.9714e-02,  1.2301e-11,  4.3104e-02,  7.9051e-09,  1.5728e-03,\n",
       "           1.6422e-02,  4.5057e-16,  1.7457e-03, -1.0289e-07,  6.1112e-02,\n",
       "           5.2734e-08,  2.3803e-01,  8.5765e-03,  3.7316e-19, -3.1280e-03,\n",
       "           7.7459e-09, -6.0652e-19,  3.3331e-15,  7.1422e-20,  8.6302e-04]],\n",
       "        grad_fn=<AddmmBackward>),\n",
       " tensor([[-0.0507, -0.0083, -0.0213, -0.3745, -0.1168, -0.0159,  0.1221,  0.0798,\n",
       "           0.0404, -0.1461,  0.0151,  0.0551, -0.0605,  0.0892, -0.0876,  0.0042,\n",
       "           0.1800, -0.0039,  0.1578,  0.1172, -0.1664,  0.0234, -0.0425, -0.1243,\n",
       "          -0.0022, -0.0126, -0.2337, -0.0215,  0.0131, -0.0886, -0.0136, -0.0254,\n",
       "          -0.0415, -0.1307, -0.2510]], grad_fn=<TanhBackward>))"
      ]
     },
     "metadata": {},
     "execution_count": 18
    }
   ],
   "source": [
    "rnn.forward(input_, hidden)"
   ]
  },
  {
   "source": [
    "아주 간단히 구현한 것이고, 학습한 문자열도 길지 않아 엄청 좋은 결과를 얻기는 힘들다.\n",
    "그저 torch로 rnn을 어떻게 구현하는지에 대해서 초점을 맞추자"
   ],
   "cell_type": "markdown",
   "metadata": {}
  }
 ],
 "metadata": {
  "kernelspec": {
   "name": "python3",
   "display_name": "Python 3.6.12 64-bit ('bt': conda)"
  },
  "language_info": {
   "codemirror_mode": {
    "name": "ipython",
    "version": 3
   },
   "file_extension": ".py",
   "mimetype": "text/x-python",
   "name": "python",
   "nbconvert_exporter": "python",
   "pygments_lexer": "ipython3",
   "version": "3.6.12"
  },
  "interpreter": {
   "hash": "a40cf4423ec2b7d3ac5038b9c4bc2a5fd550178d10053adc442af0d8750dc3c0"
  }
 },
 "nbformat": 4,
 "nbformat_minor": 5
}