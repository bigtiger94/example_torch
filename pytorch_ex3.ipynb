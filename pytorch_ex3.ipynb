{
 "cells": [
  {
   "cell_type": "code",
   "execution_count": 102,
   "id": "about-diabetes",
   "metadata": {},
   "outputs": [],
   "source": [
    "SEED = 11"
   ]
  },
  {
   "cell_type": "code",
   "execution_count": 103,
   "id": "partial-wallace",
   "metadata": {},
   "outputs": [],
   "source": [
    "import torch\n",
    "import matplotlib.pyplot as plt\n",
    "from IPython.display import display, Math"
   ]
  },
  {
   "cell_type": "code",
   "execution_count": 104,
   "id": "stunning-macintosh",
   "metadata": {},
   "outputs": [
    {
     "data": {
      "text/plain": [
       "<torch._C.Generator at 0x2992e684bd0>"
      ]
     },
     "execution_count": 104,
     "metadata": {},
     "output_type": "execute_result"
    }
   ],
   "source": [
    "torch.manual_seed(SEED)"
   ]
  },
  {
   "cell_type": "code",
   "execution_count": 105,
   "id": "enclosed-genius",
   "metadata": {},
   "outputs": [
    {
     "name": "stdout",
     "output_type": "stream",
     "text": [
      "tensor([[0., 0., 0.],\n",
      "        [0., 0., 0.]], device='cuda:0')\n"
     ]
    }
   ],
   "source": [
    "cpu_tensor = torch.zeros(2,3)\n",
    "device = torch.device(\"cuda:0\")\n",
    "gpu_tensor = cpu_tensor.to(device)\n",
    "print(gpu_tensor)"
   ]
  },
  {
   "cell_type": "code",
   "execution_count": 106,
   "id": "charming-nursery",
   "metadata": {},
   "outputs": [
    {
     "data": {
      "text/plain": [
       "tensor([[-1.5164,  4.0276, -0.3932],\n",
       "        [ 0.2337, -1.1119, -0.4701]])"
      ]
     },
     "execution_count": 106,
     "metadata": {},
     "output_type": "execute_result"
    }
   ],
   "source": [
    "mat1 = torch.randn(2, 3)\n",
    "mat2 = torch.randn(3, 3)\n",
    "torch.mm(mat1, mat2)"
   ]
  },
  {
   "cell_type": "code",
   "execution_count": 107,
   "id": "diverse-immigration",
   "metadata": {},
   "outputs": [
    {
     "data": {
      "text/plain": [
       "tensor([[-1.5164,  4.0276, -0.3932],\n",
       "        [ 0.2337, -1.1119, -0.4701]])"
      ]
     },
     "execution_count": 107,
     "metadata": {},
     "output_type": "execute_result"
    }
   ],
   "source": [
    "mat1.mm(mat2)"
   ]
  },
  {
   "cell_type": "code",
   "execution_count": 108,
   "id": "breeding-knitting",
   "metadata": {},
   "outputs": [],
   "source": [
    "import torch.nn as nn\n",
    "import torch.optim as optim\n",
    "import torch.nn.init as init"
   ]
  },
  {
   "cell_type": "code",
   "execution_count": 109,
   "id": "stuck-bouquet",
   "metadata": {},
   "outputs": [],
   "source": [
    "num_data = 1000\n",
    "num_epoch = 10000"
   ]
  },
  {
   "cell_type": "code",
   "execution_count": 110,
   "id": "perfect-divide",
   "metadata": {},
   "outputs": [],
   "source": [
    "noise = init.normal_(torch.FloatTensor(num_data, 1), mean=0., std=1.)\n",
    "x = init.uniform_(torch.Tensor(num_data, 1), -15, 15)\n",
    "y = (x**2) + 3\n",
    "y_noise = y+noise"
   ]
  },
  {
   "cell_type": "code",
   "execution_count": 111,
   "id": "piano-affair",
   "metadata": {},
   "outputs": [],
   "source": [
    "model = nn.Sequential(nn.Linear(1,6),\n",
    "                      nn.ReLU(),\n",
    "                      nn.Linear(6,10),\n",
    "                      nn.Sigmoid(),\n",
    "                      nn.Linear(10,6),\n",
    "                      nn.Sigmoid(),\n",
    "                      nn.Linear(6, 1),\n",
    "        )\n",
    "# 마지막에 linear가 꼭 필요한 것은 아니다 ..!!!!!!!\n",
    "# 해당 예제에서는 y값이 0~1 사이가 아니고,\n",
    "# 마지막 activation인 6개 sigmoid를 합치기 위해 linear 함수를 사용한 것\n",
    "# 아래처럼 ReLU를 last 에 두면 loss가 감소되는 것을 볼 수 있음"
   ]
  },
  {
   "cell_type": "code",
   "execution_count": 112,
   "id": "temporal-action",
   "metadata": {},
   "outputs": [],
   "source": [
    "loss_func = nn.MSELoss()"
   ]
  },
  {
   "cell_type": "code",
   "execution_count": 113,
   "id": "other-bankruptcy",
   "metadata": {},
   "outputs": [],
   "source": [
    "optimizer = optim.SGD(model.parameters(), lr = 0.0003)"
   ]
  },
  {
   "cell_type": "code",
   "execution_count": 114,
   "id": "thirty-switzerland",
   "metadata": {},
   "outputs": [],
   "source": [
    "arr_loss = []"
   ]
  },
  {
   "cell_type": "code",
   "execution_count": 115,
   "id": "practical-november",
   "metadata": {},
   "outputs": [
    {
     "data": {
      "text/plain": [
       "<torch._C.Generator at 0x2992e684bd0>"
      ]
     },
     "execution_count": 115,
     "metadata": {},
     "output_type": "execute_result"
    }
   ],
   "source": [
    "torch.manual_seed(SEED)"
   ]
  },
  {
   "cell_type": "code",
   "execution_count": 116,
   "id": "complete-negative",
   "metadata": {},
   "outputs": [],
   "source": [
    "for ii in range(num_epoch):\n",
    "    optimizer.zero_grad()\n",
    "    output = model(x)\n",
    "    loss = loss_func(output, y_noise)\n",
    "    loss.backward()\n",
    "    optimizer.step()\n",
    "    arr_loss.append(loss)"
   ]
  },
  {
   "cell_type": "code",
   "execution_count": 117,
   "id": "mobile-speaker",
   "metadata": {},
   "outputs": [
    {
     "data": {
      "text/plain": [
       "[<matplotlib.lines.Line2D at 0x2998ed570b8>]"
      ]
     },
     "execution_count": 117,
     "metadata": {},
     "output_type": "execute_result"
    },
    {
     "data": {
      "image/png": "[encoded data removed]",
      "text/plain": [
       "<Figure size 432x288 with 1 Axes>"
      ]
     },
     "metadata": {
      "needs_background": "light"
     },
     "output_type": "display_data"
    }
   ],
   "source": [
    "plt.plot(arr_loss)"
   ]
  },
  {
   "cell_type": "code",
   "execution_count": 118,
   "id": "impressed-seller",
   "metadata": {},
   "outputs": [
    {
     "data": {
      "text/plain": [
       "tensor(112.0068, grad_fn=<MseLossBackward>)"
      ]
     },
     "execution_count": 118,
     "metadata": {},
     "output_type": "execute_result"
    }
   ],
   "source": [
    "arr_loss[-1]"
   ]
  },
  {
   "cell_type": "code",
   "execution_count": null,
   "id": "elder-hepatitis",
   "metadata": {},
   "outputs": [],
   "source": []
  },
  {
   "cell_type": "code",
   "execution_count": 119,
   "id": "helpful-forth",
   "metadata": {},
   "outputs": [],
   "source": [
    "model = nn.Sequential(nn.Linear(1,6),\n",
    "                      nn.ReLU(),\n",
    "                      nn.Linear(6,10),\n",
    "                      nn.Sigmoid(),\n",
    "                      nn.Linear(10,6),\n",
    "                      nn.ReLU(),\n",
    "        )\n",
    "# 마지막에 linear가 꼭 필요한 것은 아니다 ..!!!!!!!\n",
    "#  ReLU를 last 에 두면 loss가 감소되는 것을 볼 수 있음"
   ]
  },
  {
   "cell_type": "code",
   "execution_count": 120,
   "id": "incoming-dividend",
   "metadata": {},
   "outputs": [],
   "source": [
    "loss_func = nn.MSELoss()"
   ]
  },
  {
   "cell_type": "code",
   "execution_count": 121,
   "id": "labeled-racing",
   "metadata": {},
   "outputs": [],
   "source": [
    "optimizer = optim.SGD(model.parameters(), lr = 0.0003)"
   ]
  },
  {
   "cell_type": "code",
   "execution_count": 122,
   "id": "oriental-advance",
   "metadata": {},
   "outputs": [],
   "source": [
    "arr_loss = []"
   ]
  },
  {
   "cell_type": "code",
   "execution_count": 123,
   "id": "robust-asset",
   "metadata": {},
   "outputs": [
    {
     "data": {
      "text/plain": [
       "<torch._C.Generator at 0x2992e684bd0>"
      ]
     },
     "execution_count": 123,
     "metadata": {},
     "output_type": "execute_result"
    }
   ],
   "source": [
    "torch.manual_seed(SEED)"
   ]
  },
  {
   "cell_type": "code",
   "execution_count": 124,
   "id": "subjective-reynolds",
   "metadata": {},
   "outputs": [],
   "source": [
    "for ii in range(num_epoch):\n",
    "    optimizer.zero_grad()\n",
    "    output = model(x)\n",
    "    loss = loss_func(output, y_noise)\n",
    "    loss.backward()\n",
    "    optimizer.step()\n",
    "    arr_loss.append(loss)"
   ]
  },
  {
   "cell_type": "code",
   "execution_count": 125,
   "id": "thermal-metadata",
   "metadata": {},
   "outputs": [
    {
     "data": {
      "text/plain": [
       "[<matplotlib.lines.Line2D at 0x2999dde3a58>]"
      ]
     },
     "execution_count": 125,
     "metadata": {},
     "output_type": "execute_result"
    },
    {
     "data": {
      "image/png": "[encoded data removed]",
      "text/plain": [
       "<Figure size 432x288 with 1 Axes>"
      ]
     },
     "metadata": {
      "needs_background": "light"
     },
     "output_type": "display_data"
    }
   ],
   "source": [
    "plt.plot(arr_loss)"
   ]
  },
  {
   "cell_type": "code",
   "execution_count": 126,
   "id": "realistic-tower",
   "metadata": {},
   "outputs": [
    {
     "data": {
      "text/plain": [
       "tensor(1954.0156, grad_fn=<MseLossBackward>)"
      ]
     },
     "execution_count": 126,
     "metadata": {},
     "output_type": "execute_result"
    }
   ],
   "source": [
    "arr_loss[-1]"
   ]
  },
  {
   "cell_type": "code",
   "execution_count": null,
   "id": "joined-philadelphia",
   "metadata": {},
   "outputs": [],
   "source": []
  }
 ],
 "metadata": {
  "kernelspec": {
   "display_name": "Python 3",
   "language": "python",
   "name": "python3"
  },
  "language_info": {
   "codemirror_mode": {
    "name": "ipython",
    "version": 3
   },
   "file_extension": ".py",
   "mimetype": "text/x-python",
   "name": "python",
   "nbconvert_exporter": "python",
   "pygments_lexer": "ipython3",
   "version": "3.6.12"
  }
 },
 "nbformat": 4,
 "nbformat_minor": 5
}
